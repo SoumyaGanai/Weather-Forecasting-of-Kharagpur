{
 "cells": [
  {
   "cell_type": "markdown",
   "id": "4e5ce425",
   "metadata": {},
   "source": [
    "# Data Extraction"
   ]
  },
  {
   "cell_type": "code",
   "execution_count": 4,
   "id": "da6ae1d1",
   "metadata": {},
   "outputs": [],
   "source": [
    "#Function to make API calls on features\n",
    "def apiCall(li):\n",
    "    para=li[0]\n",
    "    for ele in li[1:]:\n",
    "        para+=\"%2C\"\n",
    "        para+=ele\n",
    "    import requests\n",
    "    response=requests.get('https://power.larc.nasa.gov/api/temporal/daily/point?start=20120101&end=20230331&latitude=22.3149&longitude=87.3105&community=sb&parameters='+para+'&format=json&user=shikhar&header=false&time-standard=lst')\n",
    "    print(response)\n",
    "    import pandas as pd\n",
    "    data=response.json()\n",
    "    df=pd.DataFrame(data['properties']['parameter'])\n",
    "    return df"
   ]
  },
  {
   "cell_type": "code",
   "execution_count": 5,
   "id": "1a5faae5",
   "metadata": {},
   "outputs": [
    {
     "name": "stdout",
     "output_type": "stream",
     "text": [
      "<Response [200]>\n",
      "<Response [200]>\n",
      "<Response [200]>\n",
      "<Response [200]>\n"
     ]
    }
   ],
   "source": [
    "features=['PS','WS10M','WS10M_MAX','WS10M_MIN','WS10M_RANGE','WD10M','WS50M','WS50M_MAX','WS50M_MIN','WS50M_RANGE','WD50M','T2M','T2MDEW',\n",
    " 'T2MWET','TS','T2M_RANGE','T2M_MAX','T2M_MIN','QV2M','RH2M','PRECTOTCORR','ALLSKY_SFC_SW_DWN','CLRSKY_SFC_SW_DWN','ALLSKY_KT',\n",
    " 'ALLSKY_SFC_LW_DWN','ALLSKY_SFC_PAR_TOT','CLRSKY_SFC_PAR_TOT','ALLSKY_SFC_UVA','ALLSKY_SFC_UVB','ALLSKY_SFC_UV_INDEX']\n",
    "\n",
    "df1=apiCall(features[0:11])\n",
    "df2=apiCall(features[11:18])\n",
    "df3=apiCall(features[18:21])\n",
    "df4=apiCall(features[21:])\n",
    "df1.to_csv('pressure_wind_data.csv')\n",
    "df2.to_csv('temp_data.csv')\n",
    "df3.to_csv('rain_humidity_data.csv')\n",
    "df4.to_csv('sky_data.csv')"
   ]
  },
  {
   "cell_type": "code",
   "execution_count": 7,
   "id": "6893b2ed",
   "metadata": {},
   "outputs": [],
   "source": [
    "df1=pd.read_csv('pressure_wind_data.csv')\n",
    "df2=pd.read_csv('temp_data.csv')\n",
    "df3=pd.read_csv('rain_humidity_data.csv')\n",
    "df4=pd.read_csv('sky_data.csv')\n",
    "df=pd.merge(df1, df2, on='Unnamed: 0')\n",
    "df=pd.merge(df, df3, on='Unnamed: 0')\n",
    "df=pd.merge(df, df4, on='Unnamed: 0')"
   ]
  },
  {
   "cell_type": "code",
   "execution_count": 8,
   "id": "8dce1546",
   "metadata": {},
   "outputs": [],
   "source": [
    "# saving the data in csv format\n",
    "import numpy as np\n",
    "df=df.replace(-999, np.nan)\n",
    "df.to_csv('Weatherdata.csv')"
   ]
  }
 ],
 "metadata": {
  "kernelspec": {
   "display_name": "Python 3 (ipykernel)",
   "language": "python",
   "name": "python3"
  },
  "language_info": {
   "codemirror_mode": {
    "name": "ipython",
    "version": 3
   },
   "file_extension": ".py",
   "mimetype": "text/x-python",
   "name": "python",
   "nbconvert_exporter": "python",
   "pygments_lexer": "ipython3",
   "version": "3.10.9"
  }
 },
 "nbformat": 4,
 "nbformat_minor": 5
}
