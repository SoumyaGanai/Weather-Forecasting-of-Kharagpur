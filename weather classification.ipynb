{
  "nbformat": 4,
  "nbformat_minor": 0,
  "metadata": {
    "colab": {
      "provenance": []
    },
    "kernelspec": {
      "name": "python3",
      "display_name": "Python 3"
    },
    "language_info": {
      "name": "python"
    }
  },
  "cells": [
    {
      "cell_type": "code",
      "source": [
        "import numpy as np\n",
        "import pandas as pd"
      ],
      "metadata": {
        "id": "WjmCvGYaDoFJ"
      },
      "execution_count": null,
      "outputs": []
    },
    {
      "cell_type": "code",
      "source": [
        "data = pd.read_csv(\"Cleaned_data.csv\",index_col = 0);\n",
        "data.head()\n",
        "data.drop(['weather_type', 'PRECTOTCORR'],inplace = True,axis = 1)\n",
        "data.iloc[:,1:].head()"
      ],
      "metadata": {
        "colab": {
          "base_uri": "https://localhost:8080/",
          "height": 206
        },
        "id": "kV_07y1MEhbL",
        "outputId": "0e013a2c-9792-41e2-8664-3afe62e94c3e"
      },
      "execution_count": null,
      "outputs": [
        {
          "output_type": "execute_result",
          "data": {
            "text/plain": [
              "       PS  WS10M  WS10M_RANGE   WD10M    T2M   RH2M  ALLSKY_SFC_SW_DWN  \\\n",
              "0  101.27   0.86         1.29  142.25  19.87  72.81             138.71   \n",
              "1  101.27   0.95         1.33  194.31  19.83  75.44             135.58   \n",
              "2  101.24   2.49         2.16  325.44  18.69  83.31             134.17   \n",
              "3  101.15   2.86         1.96  337.94  18.01  79.00             148.32   \n",
              "4  101.13   2.80         2.20  333.69  17.16  72.50             166.91   \n",
              "\n",
              "   Visibility  Cloud Cover Conditions  \n",
              "0         2.5          0.4      Clear  \n",
              "1         1.1          0.7      Clear  \n",
              "2         4.0          1.0      Clear  \n",
              "3         4.0          0.9      Clear  \n",
              "4         4.0          0.7      Clear  "
            ],
            "text/html": [
              "\n",
              "  <div id=\"df-b7b01516-0e4c-4ba9-9c14-c9681951d33c\">\n",
              "    <div class=\"colab-df-container\">\n",
              "      <div>\n",
              "<style scoped>\n",
              "    .dataframe tbody tr th:only-of-type {\n",
              "        vertical-align: middle;\n",
              "    }\n",
              "\n",
              "    .dataframe tbody tr th {\n",
              "        vertical-align: top;\n",
              "    }\n",
              "\n",
              "    .dataframe thead th {\n",
              "        text-align: right;\n",
              "    }\n",
              "</style>\n",
              "<table border=\"1\" class=\"dataframe\">\n",
              "  <thead>\n",
              "    <tr style=\"text-align: right;\">\n",
              "      <th></th>\n",
              "      <th>PS</th>\n",
              "      <th>WS10M</th>\n",
              "      <th>WS10M_RANGE</th>\n",
              "      <th>WD10M</th>\n",
              "      <th>T2M</th>\n",
              "      <th>RH2M</th>\n",
              "      <th>ALLSKY_SFC_SW_DWN</th>\n",
              "      <th>Visibility</th>\n",
              "      <th>Cloud Cover</th>\n",
              "      <th>Conditions</th>\n",
              "    </tr>\n",
              "  </thead>\n",
              "  <tbody>\n",
              "    <tr>\n",
              "      <th>0</th>\n",
              "      <td>101.27</td>\n",
              "      <td>0.86</td>\n",
              "      <td>1.29</td>\n",
              "      <td>142.25</td>\n",
              "      <td>19.87</td>\n",
              "      <td>72.81</td>\n",
              "      <td>138.71</td>\n",
              "      <td>2.5</td>\n",
              "      <td>0.4</td>\n",
              "      <td>Clear</td>\n",
              "    </tr>\n",
              "    <tr>\n",
              "      <th>1</th>\n",
              "      <td>101.27</td>\n",
              "      <td>0.95</td>\n",
              "      <td>1.33</td>\n",
              "      <td>194.31</td>\n",
              "      <td>19.83</td>\n",
              "      <td>75.44</td>\n",
              "      <td>135.58</td>\n",
              "      <td>1.1</td>\n",
              "      <td>0.7</td>\n",
              "      <td>Clear</td>\n",
              "    </tr>\n",
              "    <tr>\n",
              "      <th>2</th>\n",
              "      <td>101.24</td>\n",
              "      <td>2.49</td>\n",
              "      <td>2.16</td>\n",
              "      <td>325.44</td>\n",
              "      <td>18.69</td>\n",
              "      <td>83.31</td>\n",
              "      <td>134.17</td>\n",
              "      <td>4.0</td>\n",
              "      <td>1.0</td>\n",
              "      <td>Clear</td>\n",
              "    </tr>\n",
              "    <tr>\n",
              "      <th>3</th>\n",
              "      <td>101.15</td>\n",
              "      <td>2.86</td>\n",
              "      <td>1.96</td>\n",
              "      <td>337.94</td>\n",
              "      <td>18.01</td>\n",
              "      <td>79.00</td>\n",
              "      <td>148.32</td>\n",
              "      <td>4.0</td>\n",
              "      <td>0.9</td>\n",
              "      <td>Clear</td>\n",
              "    </tr>\n",
              "    <tr>\n",
              "      <th>4</th>\n",
              "      <td>101.13</td>\n",
              "      <td>2.80</td>\n",
              "      <td>2.20</td>\n",
              "      <td>333.69</td>\n",
              "      <td>17.16</td>\n",
              "      <td>72.50</td>\n",
              "      <td>166.91</td>\n",
              "      <td>4.0</td>\n",
              "      <td>0.7</td>\n",
              "      <td>Clear</td>\n",
              "    </tr>\n",
              "  </tbody>\n",
              "</table>\n",
              "</div>\n",
              "      <button class=\"colab-df-convert\" onclick=\"convertToInteractive('df-b7b01516-0e4c-4ba9-9c14-c9681951d33c')\"\n",
              "              title=\"Convert this dataframe to an interactive table.\"\n",
              "              style=\"display:none;\">\n",
              "        \n",
              "  <svg xmlns=\"http://www.w3.org/2000/svg\" height=\"24px\"viewBox=\"0 0 24 24\"\n",
              "       width=\"24px\">\n",
              "    <path d=\"M0 0h24v24H0V0z\" fill=\"none\"/>\n",
              "    <path d=\"M18.56 5.44l.94 2.06.94-2.06 2.06-.94-2.06-.94-.94-2.06-.94 2.06-2.06.94zm-11 1L8.5 8.5l.94-2.06 2.06-.94-2.06-.94L8.5 2.5l-.94 2.06-2.06.94zm10 10l.94 2.06.94-2.06 2.06-.94-2.06-.94-.94-2.06-.94 2.06-2.06.94z\"/><path d=\"M17.41 7.96l-1.37-1.37c-.4-.4-.92-.59-1.43-.59-.52 0-1.04.2-1.43.59L10.3 9.45l-7.72 7.72c-.78.78-.78 2.05 0 2.83L4 21.41c.39.39.9.59 1.41.59.51 0 1.02-.2 1.41-.59l7.78-7.78 2.81-2.81c.8-.78.8-2.07 0-2.86zM5.41 20L4 18.59l7.72-7.72 1.47 1.35L5.41 20z\"/>\n",
              "  </svg>\n",
              "      </button>\n",
              "      \n",
              "  <style>\n",
              "    .colab-df-container {\n",
              "      display:flex;\n",
              "      flex-wrap:wrap;\n",
              "      gap: 12px;\n",
              "    }\n",
              "\n",
              "    .colab-df-convert {\n",
              "      background-color: #E8F0FE;\n",
              "      border: none;\n",
              "      border-radius: 50%;\n",
              "      cursor: pointer;\n",
              "      display: none;\n",
              "      fill: #1967D2;\n",
              "      height: 32px;\n",
              "      padding: 0 0 0 0;\n",
              "      width: 32px;\n",
              "    }\n",
              "\n",
              "    .colab-df-convert:hover {\n",
              "      background-color: #E2EBFA;\n",
              "      box-shadow: 0px 1px 2px rgba(60, 64, 67, 0.3), 0px 1px 3px 1px rgba(60, 64, 67, 0.15);\n",
              "      fill: #174EA6;\n",
              "    }\n",
              "\n",
              "    [theme=dark] .colab-df-convert {\n",
              "      background-color: #3B4455;\n",
              "      fill: #D2E3FC;\n",
              "    }\n",
              "\n",
              "    [theme=dark] .colab-df-convert:hover {\n",
              "      background-color: #434B5C;\n",
              "      box-shadow: 0px 1px 3px 1px rgba(0, 0, 0, 0.15);\n",
              "      filter: drop-shadow(0px 1px 2px rgba(0, 0, 0, 0.3));\n",
              "      fill: #FFFFFF;\n",
              "    }\n",
              "  </style>\n",
              "\n",
              "      <script>\n",
              "        const buttonEl =\n",
              "          document.querySelector('#df-b7b01516-0e4c-4ba9-9c14-c9681951d33c button.colab-df-convert');\n",
              "        buttonEl.style.display =\n",
              "          google.colab.kernel.accessAllowed ? 'block' : 'none';\n",
              "\n",
              "        async function convertToInteractive(key) {\n",
              "          const element = document.querySelector('#df-b7b01516-0e4c-4ba9-9c14-c9681951d33c');\n",
              "          const dataTable =\n",
              "            await google.colab.kernel.invokeFunction('convertToInteractive',\n",
              "                                                     [key], {});\n",
              "          if (!dataTable) return;\n",
              "\n",
              "          const docLinkHtml = 'Like what you see? Visit the ' +\n",
              "            '<a target=\"_blank\" href=https://colab.research.google.com/notebooks/data_table.ipynb>data table notebook</a>'\n",
              "            + ' to learn more about interactive tables.';\n",
              "          element.innerHTML = '';\n",
              "          dataTable['output_type'] = 'display_data';\n",
              "          await google.colab.output.renderOutput(dataTable, element);\n",
              "          const docLink = document.createElement('div');\n",
              "          docLink.innerHTML = docLinkHtml;\n",
              "          element.appendChild(docLink);\n",
              "        }\n",
              "      </script>\n",
              "    </div>\n",
              "  </div>\n",
              "  "
            ]
          },
          "metadata": {},
          "execution_count": 140
        }
      ]
    },
    {
      "cell_type": "code",
      "source": [
        "X = data.iloc[:,1:-1];\n",
        "y = data.Conditions;\n",
        "# store the feature matrix (X) and response vector (y)"
      ],
      "metadata": {
        "colab": {
          "base_uri": "https://localhost:8080/"
        },
        "id": "dXCBN1rEFYqI",
        "outputId": "a88a4752-32c6-4e91-dfaa-2ce111f816b3"
      },
      "execution_count": null,
      "outputs": [
        {
          "output_type": "stream",
          "name": "stdout",
          "text": [
            "       PS  WS10M  WS10M_RANGE   WD10M    T2M   RH2M  ALLSKY_SFC_SW_DWN  \\\n",
            "0  101.27   0.86         1.29  142.25  19.87  72.81             138.71   \n",
            "1  101.27   0.95         1.33  194.31  19.83  75.44             135.58   \n",
            "2  101.24   2.49         2.16  325.44  18.69  83.31             134.17   \n",
            "3  101.15   2.86         1.96  337.94  18.01  79.00             148.32   \n",
            "4  101.13   2.80         2.20  333.69  17.16  72.50             166.91   \n",
            "\n",
            "   Visibility  Cloud Cover  \n",
            "0         2.5          0.4  \n",
            "1         1.1          0.7  \n",
            "2         4.0          1.0  \n",
            "3         4.0          0.9  \n",
            "4         4.0          0.7  \n"
          ]
        },
        {
          "output_type": "execute_result",
          "data": {
            "text/plain": [
              "0          Clear\n",
              "1          Clear\n",
              "2          Clear\n",
              "3          Clear\n",
              "4          Clear\n",
              "          ...   \n",
              "2263    Overcast\n",
              "2264    Overcast\n",
              "2265    Overcast\n",
              "2266    Overcast\n",
              "2267    Overcast\n",
              "Name: Conditions, Length: 2268, dtype: object"
            ]
          },
          "metadata": {},
          "execution_count": 142
        }
      ]
    },
    {
      "cell_type": "code",
      "source": [
        "X_train = X[:-100]\n",
        "X_test = X[-100: ]\n",
        "print(X_train.shape)"
      ],
      "metadata": {
        "colab": {
          "base_uri": "https://localhost:8080/"
        },
        "id": "r6lubHBAGPm2",
        "outputId": "163b57b4-af4a-4d07-ce2e-11f6a18cfa05"
      },
      "execution_count": null,
      "outputs": [
        {
          "output_type": "stream",
          "name": "stdout",
          "text": [
            "(2168, 9)\n"
          ]
        }
      ]
    },
    {
      "cell_type": "code",
      "source": [
        "X_train = X[:-100]\n",
        "X_test = X[-100: ]\n",
        "y_train = y[:-100]\n",
        "y_test = y[-100:]"
      ],
      "metadata": {
        "id": "_3ZDQiP_FlsJ"
      },
      "execution_count": null,
      "outputs": []
    },
    {
      "cell_type": "code",
      "execution_count": null,
      "metadata": {
        "colab": {
          "base_uri": "https://localhost:8080/"
        },
        "id": "1_1eN05sCyU3",
        "outputId": "f85b3344-2a65-4404-db5c-05cdb007fcc0"
      },
      "outputs": [
        {
          "output_type": "stream",
          "name": "stdout",
          "text": [
            "Gaussian Naive Bayes model accuracy(in %): 78.0\n"
          ]
        }
      ],
      "source": [
        "\n",
        "# splitting X and y into training and testing sets\n",
        "#from sklearn.model_selection import train_test_split\n",
        "#X_train, X_test, y_train, y_test = train_test_split(X, y, test_size=0.4, random_state=1)\n",
        " \n",
        "# training the model on training set\n",
        "from sklearn.naive_bayes import GaussianNB\n",
        "gnb = GaussianNB()\n",
        "gnb.fit(X_train, y_train)\n",
        " \n",
        "# making predictions on the testing set\n",
        "y_pred = gnb.predict(X_test)\n",
        "# comparing actual response values (y_test) with predicted response values (y_pred)\n",
        "from sklearn import metrics\n",
        "print(\"Gaussian Naive Bayes model accuracy(in %):\", metrics.accuracy_score(y_test, y_pred)*100)"
      ]
    },
    {
      "cell_type": "code",
      "source": [
        "from sklearn.svm import SVC\n",
        "#kernels = ['linear', 'poly', 'sigmoid', 'rbf']\n",
        "#for k in kernels:\n",
        "\n",
        "classifier = SVC(kernel = 'poly')\n",
        "classifier.fit(X_train, y_train)\n",
        "pred_y = classifier.predict(X_test)\n",
        "print(\"accuracy of poly kernel is \" ,metrics.accuracy_score(y_true= y_test, y_pred= pred_y))"
      ],
      "metadata": {
        "colab": {
          "base_uri": "https://localhost:8080/"
        },
        "id": "EE1-zFaoFyQc",
        "outputId": "eeeb2741-1771-42d1-f969-16faa85225dc"
      },
      "execution_count": null,
      "outputs": [
        {
          "output_type": "stream",
          "name": "stdout",
          "text": [
            "accuracy of poly kernel is  0.91\n"
          ]
        }
      ]
    },
    {
      "cell_type": "code",
      "source": [
        "predictions = pd.read_csv(\"predictions.csv\",index_col = 0);\n",
        "#predictions.drop('Cloud Cover',inplace = True,axis = 1)\n",
        "model.predict(predictions)"
      ],
      "metadata": {
        "colab": {
          "base_uri": "https://localhost:8080/"
        },
        "id": "Fb6D0z3hrCcY",
        "outputId": "96ca3b4f-2210-467b-a285-efda8ff30cbe"
      },
      "execution_count": null,
      "outputs": [
        {
          "output_type": "execute_result",
          "data": {
            "text/plain": [
              "array(['Overcast', 'Clear', 'Partially cloudy', 'Partially cloudy',\n",
              "       'Partially cloudy', 'Overcast', 'Partially cloudy',\n",
              "       'Partially cloudy', 'Partially cloudy', 'Partially cloudy',\n",
              "       'Partially cloudy', 'Clear', 'Clear', 'Clear', 'Partially cloudy',\n",
              "       'Partially cloudy', 'Partially cloudy', 'Partially cloudy',\n",
              "       'Partially cloudy', 'Partially cloudy', 'Partially cloudy',\n",
              "       'Partially cloudy', 'Partially cloudy', 'Partially cloudy',\n",
              "       'Partially cloudy'], dtype='<U16')"
            ]
          },
          "metadata": {},
          "execution_count": 148
        }
      ]
    },
    {
      "cell_type": "code",
      "source": [
        "from sklearn import tree\n",
        "from sklearn.ensemble import RandomForestClassifier"
      ],
      "metadata": {
        "id": "sCRKcXo7Noky"
      },
      "execution_count": null,
      "outputs": []
    },
    {
      "cell_type": "code",
      "source": [
        "model = tree.DecisionTreeClassifier()\n",
        "model = model.fit(X_train, y_train)\n",
        "pred_y = model.predict(X_test)\n",
        "print(\"accuracy of decision tree is \" ,metrics.accuracy_score(y_true= y_test, y_pred= pred_y))"
      ],
      "metadata": {
        "colab": {
          "base_uri": "https://localhost:8080/"
        },
        "id": "e0w5Lj1dL5CS",
        "outputId": "216905f2-1dbd-429f-c28f-1eca6ae5f1a7"
      },
      "execution_count": null,
      "outputs": [
        {
          "output_type": "stream",
          "name": "stdout",
          "text": [
            "accuracy of decision tree is  0.83\n"
          ]
        }
      ]
    },
    {
      "cell_type": "code",
      "source": [
        "predictions = pd.read_csv(\"predictions.csv\",index_col = 0);\n",
        "#predictions.drop('Cloud Cover',inplace = True,axis = 1)\n",
        "model.predict(predictions)"
      ],
      "metadata": {
        "colab": {
          "base_uri": "https://localhost:8080/"
        },
        "id": "jweTPwW7s9Y7",
        "outputId": "ef0a73a9-7c24-4293-90f4-0db59519d791"
      },
      "execution_count": null,
      "outputs": [
        {
          "output_type": "execute_result",
          "data": {
            "text/plain": [
              "array(['Overcast', 'Clear', 'Partially cloudy', 'Partially cloudy',\n",
              "       'Partially cloudy', 'Overcast', 'Partially cloudy',\n",
              "       'Partially cloudy', 'Partially cloudy', 'Partially cloudy',\n",
              "       'Partially cloudy', 'Clear', 'Clear', 'Clear', 'Partially cloudy',\n",
              "       'Partially cloudy', 'Partially cloudy', 'Partially cloudy',\n",
              "       'Partially cloudy', 'Partially cloudy', 'Partially cloudy',\n",
              "       'Partially cloudy', 'Partially cloudy', 'Partially cloudy',\n",
              "       'Partially cloudy'], dtype=object)"
            ]
          },
          "metadata": {},
          "execution_count": 151
        }
      ]
    },
    {
      "cell_type": "code",
      "source": [
        "model = RandomForestClassifier(n_estimators = 10,criterion = 'entropy')\n",
        "model = model.fit(X_train, y_train)\n",
        "pred_y = model.predict(X_test)\n",
        "print(\"accuracy of decision tree is \" ,metrics.accuracy_score(y_true= y_test, y_pred= pred_y))"
      ],
      "metadata": {
        "colab": {
          "base_uri": "https://localhost:8080/"
        },
        "id": "6qIfvnbGOQFQ",
        "outputId": "1a677d17-c54b-4d55-9313-54569b4bc5b5"
      },
      "execution_count": null,
      "outputs": [
        {
          "output_type": "stream",
          "name": "stdout",
          "text": [
            "accuracy of decision tree is  0.86\n"
          ]
        }
      ]
    },
    {
      "cell_type": "code",
      "source": [
        "predictions = pd.read_csv(\"predictions.csv\",index_col = 0);\n",
        "#predictions.drop('Cloud Cover',inplace = True,axis = 1)\n",
        "model.predict(predictions)"
      ],
      "metadata": {
        "colab": {
          "base_uri": "https://localhost:8080/"
        },
        "id": "FDlPY0DlmPPq",
        "outputId": "23c56d77-384b-458e-c4ff-2a09208fda96"
      },
      "execution_count": null,
      "outputs": [
        {
          "output_type": "execute_result",
          "data": {
            "text/plain": [
              "array(['Overcast', 'Clear', 'Partially cloudy', 'Partially cloudy',\n",
              "       'Partially cloudy', 'Overcast', 'Partially cloudy',\n",
              "       'Partially cloudy', 'Partially cloudy', 'Partially cloudy',\n",
              "       'Partially cloudy', 'Clear', 'Clear', 'Clear', 'Partially cloudy',\n",
              "       'Partially cloudy', 'Partially cloudy', 'Partially cloudy',\n",
              "       'Partially cloudy', 'Partially cloudy', 'Partially cloudy',\n",
              "       'Partially cloudy', 'Partially cloudy', 'Partially cloudy',\n",
              "       'Partially cloudy'], dtype=object)"
            ]
          },
          "metadata": {},
          "execution_count": 153
        }
      ]
    },
    {
      "cell_type": "code",
      "source": [
        "from sklearn.discriminant_analysis import LinearDiscriminantAnalysis\n",
        "model = LinearDiscriminantAnalysis()\n",
        "model = model.fit(X_train, y_train)\n",
        "pred_y = model.predict(X_test)\n",
        "print(\"accuracy of LDA is \" ,metrics.accuracy_score(y_true= y_test, y_pred= pred_y))\n"
      ],
      "metadata": {
        "colab": {
          "base_uri": "https://localhost:8080/"
        },
        "id": "--_jx0wyRvxi",
        "outputId": "a8e80ade-3994-4ee0-e215-113e1a208dbf"
      },
      "execution_count": null,
      "outputs": [
        {
          "output_type": "stream",
          "name": "stdout",
          "text": [
            "accuracy of LDA is  0.84\n"
          ]
        }
      ]
    },
    {
      "cell_type": "code",
      "source": [
        "predictions = pd.read_csv(\"predictions.csv\",index_col = 0);\n",
        "\n",
        "#predictions.drop('Cloud Cover',inplace = True,axis = 1)\n",
        "y_prediction = model.predict(predictions)"
      ],
      "metadata": {
        "id": "FWa-Q-vPZoYy"
      },
      "execution_count": null,
      "outputs": []
    },
    {
      "cell_type": "code",
      "source": [
        "train_dates= data.Date\n",
        "train_dates\n",
        "f_dates= pd.date_range(list(train_dates)[-1], periods = 26, freq= '1d').tolist()\n",
        "f_dates[1:]\n",
        "forecast_dates = []\n",
        "for time_i in f_dates:\n",
        "    forecast_dates.append(time_i.date())"
      ],
      "metadata": {
        "id": "yhqpDVFIc7lv"
      },
      "execution_count": null,
      "outputs": []
    },
    {
      "cell_type": "code",
      "source": [
        "df_forecast = pd.DataFrame({'Date':np.array(forecast_dates[1:]), 'Conditions':y_prediction})\n",
        "df_forecast['Date']=pd.to_datetime(df_forecast['Date'])\n",
        "df_forecast"
      ],
      "metadata": {
        "colab": {
          "base_uri": "https://localhost:8080/",
          "height": 833
        },
        "id": "rVOLpmM4uJxL",
        "outputId": "b942459d-4bb1-4029-fe7d-62828988663a"
      },
      "execution_count": null,
      "outputs": [
        {
          "output_type": "execute_result",
          "data": {
            "text/plain": [
              "         Date        Conditions\n",
              "0  2023-03-21          Overcast\n",
              "1  2023-03-22             Clear\n",
              "2  2023-03-23  Partially cloudy\n",
              "3  2023-03-24  Partially cloudy\n",
              "4  2023-03-25  Partially cloudy\n",
              "5  2023-03-26          Overcast\n",
              "6  2023-03-27  Partially cloudy\n",
              "7  2023-03-28  Partially cloudy\n",
              "8  2023-03-29  Partially cloudy\n",
              "9  2023-03-30  Partially cloudy\n",
              "10 2023-03-31  Partially cloudy\n",
              "11 2023-04-01             Clear\n",
              "12 2023-04-02             Clear\n",
              "13 2023-04-03             Clear\n",
              "14 2023-04-04  Partially cloudy\n",
              "15 2023-04-05  Partially cloudy\n",
              "16 2023-04-06  Partially cloudy\n",
              "17 2023-04-07  Partially cloudy\n",
              "18 2023-04-08  Partially cloudy\n",
              "19 2023-04-09  Partially cloudy\n",
              "20 2023-04-10  Partially cloudy\n",
              "21 2023-04-11  Partially cloudy\n",
              "22 2023-04-12  Partially cloudy\n",
              "23 2023-04-13  Partially cloudy\n",
              "24 2023-04-14  Partially cloudy"
            ],
            "text/html": [
              "\n",
              "  <div id=\"df-643c5f1b-6207-4ab6-9b2e-1f42faeddd31\">\n",
              "    <div class=\"colab-df-container\">\n",
              "      <div>\n",
              "<style scoped>\n",
              "    .dataframe tbody tr th:only-of-type {\n",
              "        vertical-align: middle;\n",
              "    }\n",
              "\n",
              "    .dataframe tbody tr th {\n",
              "        vertical-align: top;\n",
              "    }\n",
              "\n",
              "    .dataframe thead th {\n",
              "        text-align: right;\n",
              "    }\n",
              "</style>\n",
              "<table border=\"1\" class=\"dataframe\">\n",
              "  <thead>\n",
              "    <tr style=\"text-align: right;\">\n",
              "      <th></th>\n",
              "      <th>Date</th>\n",
              "      <th>Conditions</th>\n",
              "    </tr>\n",
              "  </thead>\n",
              "  <tbody>\n",
              "    <tr>\n",
              "      <th>0</th>\n",
              "      <td>2023-03-21</td>\n",
              "      <td>Overcast</td>\n",
              "    </tr>\n",
              "    <tr>\n",
              "      <th>1</th>\n",
              "      <td>2023-03-22</td>\n",
              "      <td>Clear</td>\n",
              "    </tr>\n",
              "    <tr>\n",
              "      <th>2</th>\n",
              "      <td>2023-03-23</td>\n",
              "      <td>Partially cloudy</td>\n",
              "    </tr>\n",
              "    <tr>\n",
              "      <th>3</th>\n",
              "      <td>2023-03-24</td>\n",
              "      <td>Partially cloudy</td>\n",
              "    </tr>\n",
              "    <tr>\n",
              "      <th>4</th>\n",
              "      <td>2023-03-25</td>\n",
              "      <td>Partially cloudy</td>\n",
              "    </tr>\n",
              "    <tr>\n",
              "      <th>5</th>\n",
              "      <td>2023-03-26</td>\n",
              "      <td>Overcast</td>\n",
              "    </tr>\n",
              "    <tr>\n",
              "      <th>6</th>\n",
              "      <td>2023-03-27</td>\n",
              "      <td>Partially cloudy</td>\n",
              "    </tr>\n",
              "    <tr>\n",
              "      <th>7</th>\n",
              "      <td>2023-03-28</td>\n",
              "      <td>Partially cloudy</td>\n",
              "    </tr>\n",
              "    <tr>\n",
              "      <th>8</th>\n",
              "      <td>2023-03-29</td>\n",
              "      <td>Partially cloudy</td>\n",
              "    </tr>\n",
              "    <tr>\n",
              "      <th>9</th>\n",
              "      <td>2023-03-30</td>\n",
              "      <td>Partially cloudy</td>\n",
              "    </tr>\n",
              "    <tr>\n",
              "      <th>10</th>\n",
              "      <td>2023-03-31</td>\n",
              "      <td>Partially cloudy</td>\n",
              "    </tr>\n",
              "    <tr>\n",
              "      <th>11</th>\n",
              "      <td>2023-04-01</td>\n",
              "      <td>Clear</td>\n",
              "    </tr>\n",
              "    <tr>\n",
              "      <th>12</th>\n",
              "      <td>2023-04-02</td>\n",
              "      <td>Clear</td>\n",
              "    </tr>\n",
              "    <tr>\n",
              "      <th>13</th>\n",
              "      <td>2023-04-03</td>\n",
              "      <td>Clear</td>\n",
              "    </tr>\n",
              "    <tr>\n",
              "      <th>14</th>\n",
              "      <td>2023-04-04</td>\n",
              "      <td>Partially cloudy</td>\n",
              "    </tr>\n",
              "    <tr>\n",
              "      <th>15</th>\n",
              "      <td>2023-04-05</td>\n",
              "      <td>Partially cloudy</td>\n",
              "    </tr>\n",
              "    <tr>\n",
              "      <th>16</th>\n",
              "      <td>2023-04-06</td>\n",
              "      <td>Partially cloudy</td>\n",
              "    </tr>\n",
              "    <tr>\n",
              "      <th>17</th>\n",
              "      <td>2023-04-07</td>\n",
              "      <td>Partially cloudy</td>\n",
              "    </tr>\n",
              "    <tr>\n",
              "      <th>18</th>\n",
              "      <td>2023-04-08</td>\n",
              "      <td>Partially cloudy</td>\n",
              "    </tr>\n",
              "    <tr>\n",
              "      <th>19</th>\n",
              "      <td>2023-04-09</td>\n",
              "      <td>Partially cloudy</td>\n",
              "    </tr>\n",
              "    <tr>\n",
              "      <th>20</th>\n",
              "      <td>2023-04-10</td>\n",
              "      <td>Partially cloudy</td>\n",
              "    </tr>\n",
              "    <tr>\n",
              "      <th>21</th>\n",
              "      <td>2023-04-11</td>\n",
              "      <td>Partially cloudy</td>\n",
              "    </tr>\n",
              "    <tr>\n",
              "      <th>22</th>\n",
              "      <td>2023-04-12</td>\n",
              "      <td>Partially cloudy</td>\n",
              "    </tr>\n",
              "    <tr>\n",
              "      <th>23</th>\n",
              "      <td>2023-04-13</td>\n",
              "      <td>Partially cloudy</td>\n",
              "    </tr>\n",
              "    <tr>\n",
              "      <th>24</th>\n",
              "      <td>2023-04-14</td>\n",
              "      <td>Partially cloudy</td>\n",
              "    </tr>\n",
              "  </tbody>\n",
              "</table>\n",
              "</div>\n",
              "      <button class=\"colab-df-convert\" onclick=\"convertToInteractive('df-643c5f1b-6207-4ab6-9b2e-1f42faeddd31')\"\n",
              "              title=\"Convert this dataframe to an interactive table.\"\n",
              "              style=\"display:none;\">\n",
              "        \n",
              "  <svg xmlns=\"http://www.w3.org/2000/svg\" height=\"24px\"viewBox=\"0 0 24 24\"\n",
              "       width=\"24px\">\n",
              "    <path d=\"M0 0h24v24H0V0z\" fill=\"none\"/>\n",
              "    <path d=\"M18.56 5.44l.94 2.06.94-2.06 2.06-.94-2.06-.94-.94-2.06-.94 2.06-2.06.94zm-11 1L8.5 8.5l.94-2.06 2.06-.94-2.06-.94L8.5 2.5l-.94 2.06-2.06.94zm10 10l.94 2.06.94-2.06 2.06-.94-2.06-.94-.94-2.06-.94 2.06-2.06.94z\"/><path d=\"M17.41 7.96l-1.37-1.37c-.4-.4-.92-.59-1.43-.59-.52 0-1.04.2-1.43.59L10.3 9.45l-7.72 7.72c-.78.78-.78 2.05 0 2.83L4 21.41c.39.39.9.59 1.41.59.51 0 1.02-.2 1.41-.59l7.78-7.78 2.81-2.81c.8-.78.8-2.07 0-2.86zM5.41 20L4 18.59l7.72-7.72 1.47 1.35L5.41 20z\"/>\n",
              "  </svg>\n",
              "      </button>\n",
              "      \n",
              "  <style>\n",
              "    .colab-df-container {\n",
              "      display:flex;\n",
              "      flex-wrap:wrap;\n",
              "      gap: 12px;\n",
              "    }\n",
              "\n",
              "    .colab-df-convert {\n",
              "      background-color: #E8F0FE;\n",
              "      border: none;\n",
              "      border-radius: 50%;\n",
              "      cursor: pointer;\n",
              "      display: none;\n",
              "      fill: #1967D2;\n",
              "      height: 32px;\n",
              "      padding: 0 0 0 0;\n",
              "      width: 32px;\n",
              "    }\n",
              "\n",
              "    .colab-df-convert:hover {\n",
              "      background-color: #E2EBFA;\n",
              "      box-shadow: 0px 1px 2px rgba(60, 64, 67, 0.3), 0px 1px 3px 1px rgba(60, 64, 67, 0.15);\n",
              "      fill: #174EA6;\n",
              "    }\n",
              "\n",
              "    [theme=dark] .colab-df-convert {\n",
              "      background-color: #3B4455;\n",
              "      fill: #D2E3FC;\n",
              "    }\n",
              "\n",
              "    [theme=dark] .colab-df-convert:hover {\n",
              "      background-color: #434B5C;\n",
              "      box-shadow: 0px 1px 3px 1px rgba(0, 0, 0, 0.15);\n",
              "      filter: drop-shadow(0px 1px 2px rgba(0, 0, 0, 0.3));\n",
              "      fill: #FFFFFF;\n",
              "    }\n",
              "  </style>\n",
              "\n",
              "      <script>\n",
              "        const buttonEl =\n",
              "          document.querySelector('#df-643c5f1b-6207-4ab6-9b2e-1f42faeddd31 button.colab-df-convert');\n",
              "        buttonEl.style.display =\n",
              "          google.colab.kernel.accessAllowed ? 'block' : 'none';\n",
              "\n",
              "        async function convertToInteractive(key) {\n",
              "          const element = document.querySelector('#df-643c5f1b-6207-4ab6-9b2e-1f42faeddd31');\n",
              "          const dataTable =\n",
              "            await google.colab.kernel.invokeFunction('convertToInteractive',\n",
              "                                                     [key], {});\n",
              "          if (!dataTable) return;\n",
              "\n",
              "          const docLinkHtml = 'Like what you see? Visit the ' +\n",
              "            '<a target=\"_blank\" href=https://colab.research.google.com/notebooks/data_table.ipynb>data table notebook</a>'\n",
              "            + ' to learn more about interactive tables.';\n",
              "          element.innerHTML = '';\n",
              "          dataTable['output_type'] = 'display_data';\n",
              "          await google.colab.output.renderOutput(dataTable, element);\n",
              "          const docLink = document.createElement('div');\n",
              "          docLink.innerHTML = docLinkHtml;\n",
              "          element.appendChild(docLink);\n",
              "        }\n",
              "      </script>\n",
              "    </div>\n",
              "  </div>\n",
              "  "
            ]
          },
          "metadata": {},
          "execution_count": 157
        }
      ]
    }
  ]
}